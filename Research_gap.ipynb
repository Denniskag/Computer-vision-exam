{
  "nbformat": 4,
  "nbformat_minor": 0,
  "metadata": {
    "colab": {
      "provenance": [],
      "gpuType": "T4",
      "mount_file_id": "1DSogWZsp8W8vPtq1wv5_475QCUF-j9cO",
      "authorship_tag": "ABX9TyO+szMKBxyyvzFfvN9VLuCn",
      "include_colab_link": true
    },
    "kernelspec": {
      "name": "python3",
      "display_name": "Python 3"
    },
    "language_info": {
      "name": "python"
    },
    "accelerator": "GPU"
  },
  "cells": [
    {
      "cell_type": "markdown",
      "metadata": {
        "id": "view-in-github",
        "colab_type": "text"
      },
      "source": [
        "<a href=\"https://colab.research.google.com/github/Denniskag/Computer-vision-exam/blob/main/Research_gap.ipynb\" target=\"_parent\"><img src=\"https://colab.research.google.com/assets/colab-badge.svg\" alt=\"Open In Colab\"/></a>"
      ]
    },
    {
      "cell_type": "code",
      "execution_count": 17,
      "metadata": {
        "id": "8OnMqUsPbSGh"
      },
      "outputs": [],
      "source": [
        "import tensorflow as tf\n",
        "from keras.preprocessing.image import ImageDataGenerator\n",
        "import numpy as np\n",
        "from sklearn.metrics import confusion_matrix, classification_report, roc_curve, auc\n",
        "import matplotlib.pyplot as plt\n",
        "import cv2"
      ]
    },
    {
      "cell_type": "code",
      "source": [
        "# Original data augmentation and loading\n",
        "train_datagen = ImageDataGenerator(rescale=1./255,\n",
        "                                   shear_range=0.2,\n",
        "                                   zoom_range=0.2,\n",
        "                                   horizontal_flip=True)\n",
        "training_set = train_datagen.flow_from_directory('/content/drive/MyDrive/Computer vision datasets/data_A/train',\n",
        "                                                 target_size=(64, 64),\n",
        "                                                 batch_size=32,\n",
        "                                                 class_mode='binary')\n",
        "\n",
        "test_datagen = ImageDataGenerator(rescale=1./255)\n",
        "test_set = test_datagen.flow_from_directory('/content/drive/MyDrive/Computer vision datasets/data_A/test',\n",
        "                                            target_size=(64, 64),\n",
        "                                            batch_size=32,\n",
        "                                            class_mode='binary')\n",
        "\n"
      ],
      "metadata": {
        "colab": {
          "base_uri": "https://localhost:8080/"
        },
        "id": "GLY7v3g-bhA5",
        "outputId": "15c7958f-0828-4472-c42c-5d4104cf9eb9"
      },
      "execution_count": null,
      "outputs": [
        {
          "output_type": "stream",
          "name": "stdout",
          "text": [
            "Found 5638 images belonging to 2 classes.\n",
            "Found 1408 images belonging to 2 classes.\n"
          ]
        }
      ]
    },
    {
      "cell_type": "code",
      "source": [
        "# Define the original CNN model\n",
        "cnn = tf.keras.models.Sequential()\n",
        "cnn.add(tf.keras.layers.Conv2D(filters=32, kernel_size=3, activation='relu', input_shape=[64, 64, 3]))\n",
        "cnn.add(tf.keras.layers.MaxPool2D(pool_size=2, strides=2))\n",
        "cnn.add(tf.keras.layers.Conv2D(filters=32, kernel_size=3, activation='relu'))\n",
        "cnn.add(tf.keras.layers.MaxPool2D(pool_size=2, strides=2))\n",
        "cnn.add(tf.keras.layers.Flatten())\n",
        "cnn.add(tf.keras.layers.Dense(units=128, activation='relu'))\n",
        "cnn.add(tf.keras.layers.Dense(units=1, activation='sigmoid'))\n",
        "cnn.compile(optimizer='adam', loss='binary_crossentropy', metrics=['accuracy'])\n",
        "# Train the original model\n",
        "cnn.fit(x=training_set, validation_data=test_set, epochs=2)"
      ],
      "metadata": {
        "colab": {
          "base_uri": "https://localhost:8080/"
        },
        "id": "94LSmQ6Fbl6g",
        "outputId": "9c7143dc-11d0-4274-ec2c-05112f46e6ac"
      },
      "execution_count": null,
      "outputs": [
        {
          "output_type": "stream",
          "name": "stdout",
          "text": [
            "Epoch 1/2\n",
            "177/177 [==============================] - 4568s 26s/step - loss: 0.2881 - accuracy: 0.8879 - val_loss: 0.1495 - val_accuracy: 0.9553\n",
            "Epoch 2/2\n",
            "177/177 [==============================] - 30s 169ms/step - loss: 0.1419 - accuracy: 0.9548 - val_loss: 0.1385 - val_accuracy: 0.9581\n"
          ]
        },
        {
          "output_type": "execute_result",
          "data": {
            "text/plain": [
              "<keras.src.callbacks.History at 0x7f86881fefe0>"
            ]
          },
          "metadata": {},
          "execution_count": 3
        }
      ]
    },
    {
      "cell_type": "code",
      "source": [
        "cnn.save('path/to/saved_model.h5')"
      ],
      "metadata": {
        "colab": {
          "base_uri": "https://localhost:8080/"
        },
        "id": "mMWDe0fgv6hI",
        "outputId": "626d0f89-70fd-41a2-c154-162699f46c60"
      },
      "execution_count": null,
      "outputs": [
        {
          "output_type": "stream",
          "name": "stderr",
          "text": [
            "/usr/local/lib/python3.10/dist-packages/keras/src/engine/training.py:3103: UserWarning: You are saving your model as an HDF5 file via `model.save()`. This file format is considered legacy. We recommend using instead the native Keras format, e.g. `model.save('my_model.keras')`.\n",
            "  saving_api.save_model(\n"
          ]
        }
      ]
    },
    {
      "cell_type": "code",
      "source": [],
      "metadata": {
        "id": "Ckg8sU7CwWRX"
      },
      "execution_count": null,
      "outputs": []
    },
    {
      "cell_type": "code",
      "source": [
        "test_set.reset()\n",
        "predictions = cnn.predict(test_set)\n",
        "predicted_classes = (predictions > 0.5).astype(int).reshape(-1)\n",
        "true_classes = test_set.classes"
      ],
      "metadata": {
        "colab": {
          "base_uri": "https://localhost:8080/"
        },
        "id": "fHpIvS-IbqB9",
        "outputId": "0240807b-5d5d-4a6d-c612-c0c019960a29"
      },
      "execution_count": null,
      "outputs": [
        {
          "output_type": "stream",
          "name": "stdout",
          "text": [
            "44/44 [==============================] - 5s 106ms/step\n"
          ]
        }
      ]
    },
    {
      "cell_type": "code",
      "source": [
        "cm = confusion_matrix(true_classes, predicted_classes)\n",
        "print(\"Confusion Matrix for Original Model\")\n",
        "print(cm)"
      ],
      "metadata": {
        "colab": {
          "base_uri": "https://localhost:8080/"
        },
        "id": "7ZN1vJuIb1Uz",
        "outputId": "f0dbfe30-39f2-4123-cdad-90c90bcdaa33"
      },
      "execution_count": null,
      "outputs": [
        {
          "output_type": "stream",
          "name": "stdout",
          "text": [
            "Confusion Matrix for Original Model\n",
            "[[682 293]\n",
            " [278 155]]\n"
          ]
        }
      ]
    },
    {
      "cell_type": "code",
      "source": [
        "report = classification_report(true_classes, predicted_classes, target_names=['saloon_car', 'motorcycle'])\n",
        "print(\"Classification Report for Original Model\")\n",
        "print(report)\n"
      ],
      "metadata": {
        "colab": {
          "base_uri": "https://localhost:8080/"
        },
        "id": "fp1hWHbdb8TZ",
        "outputId": "17511f47-382d-440d-b8d3-3f415bcdbbfa"
      },
      "execution_count": null,
      "outputs": [
        {
          "output_type": "stream",
          "name": "stdout",
          "text": [
            "Classification Report for Original Model\n",
            "              precision    recall  f1-score   support\n",
            "\n",
            "  saloon_car       0.71      0.70      0.70       975\n",
            "  motorcycle       0.35      0.36      0.35       433\n",
            "\n",
            "    accuracy                           0.59      1408\n",
            "   macro avg       0.53      0.53      0.53      1408\n",
            "weighted avg       0.60      0.59      0.60      1408\n",
            "\n"
          ]
        }
      ]
    },
    {
      "cell_type": "code",
      "source": [
        "fpr, tpr, thresholds = roc_curve(true_classes, predictions)\n",
        "roc_auc = auc(fpr, tpr)\n",
        "print(\"AUC for Original Model: \", roc_auc)\n"
      ],
      "metadata": {
        "colab": {
          "base_uri": "https://localhost:8080/"
        },
        "id": "0W8pPsnMcAso",
        "outputId": "43dd97d4-32db-42a5-e2c8-a7f351dd503f"
      },
      "execution_count": null,
      "outputs": [
        {
          "output_type": "stream",
          "name": "stdout",
          "text": [
            "AUC for Original Model:  0.5469603837271274\n"
          ]
        }
      ]
    },
    {
      "cell_type": "code",
      "source": [
        "plt.figure()\n",
        "plt.plot(fpr, tpr, color='blue', lw=2, label='Original Model ROC curve (area = %0.2f)' % roc_auc)\n",
        "plt.plot([0, 1], [0, 1], color='red', lw=2, linestyle='--')\n",
        "plt.xlim([0.0, 1.0])\n",
        "plt.ylim([0.0, 1.05])\n",
        "plt.xlabel('False Positive Rate')\n",
        "plt.ylabel('True Positive Rate')\n",
        "plt.title('Receiver Operating Characteristic (ROC) Curve')\n",
        "plt.legend(loc=\"lower right\")\n",
        "\n"
      ],
      "metadata": {
        "colab": {
          "base_uri": "https://localhost:8080/",
          "height": 490
        },
        "id": "x1kWGLFjcEnW",
        "outputId": "bf133b92-a694-4d08-8f2c-a3860797ac26"
      },
      "execution_count": null,
      "outputs": [
        {
          "output_type": "execute_result",
          "data": {
            "text/plain": [
              "<matplotlib.legend.Legend at 0x7f862b9a30d0>"
            ]
          },
          "metadata": {},
          "execution_count": 9
        },
        {
          "output_type": "display_data",
          "data": {
            "text/plain": [
              "<Figure size 640x480 with 1 Axes>"
            ],
            "image/png": "[encoded data removed]"
          },
          "metadata": {}
        }
      ]
    },
    {
      "cell_type": "code",
      "source": [
        "def add_night_effect(image):\n",
        "    hsv = cv2.cvtColor(image, cv2.COLOR_RGB2HSV)\n",
        "    h, s, v = cv2.split(hsv)\n",
        "    v = cv2.multiply(v, 0.3)\n",
        "    hsv = cv2.merge((h, s, v))\n",
        "    night_image = cv2.cvtColor(hsv, cv2.COLOR_HSV2RGB)\n",
        "    return night_image\n",
        "\n",
        "def night_augmentation(image):\n",
        "    image = add_night_effect(image)\n",
        "    return image"
      ],
      "metadata": {
        "id": "e5Rwou80y9eY"
      },
      "execution_count": 18,
      "outputs": []
    },
    {
      "cell_type": "code",
      "source": [
        "# New data augmentation for night-time image processing\n",
        "night_train_datagen = ImageDataGenerator(rescale=1./255,\n",
        "                                         shear_range=0.2,\n",
        "                                         zoom_range=0.2,\n",
        "                                         horizontal_flip=True,\n",
        "                                         preprocessing_function=night_augmentation)\n",
        "                                         #brightness_range=[0.2, 1.0])\n",
        "\n",
        "night_training_set = night_train_datagen.flow_from_directory('/content/drive/MyDrive/Computer vision datasets/data_A/train',\n",
        "                                                             target_size=(64, 64),\n",
        "                                                             batch_size=32,\n",
        "                                                             class_mode='binary')\n",
        "\n",
        "night_test_datagen = ImageDataGenerator(rescale=1./255)\n",
        "night_test_set = night_test_datagen.flow_from_directory('/content/drive/MyDrive/Computer vision datasets/data_A/test',\n",
        "                                                        target_size=(64, 64),\n",
        "                                                        batch_size=32,\n",
        "                                                        class_mode='binary')"
      ],
      "metadata": {
        "colab": {
          "base_uri": "https://localhost:8080/"
        },
        "id": "2UookayGcI1W",
        "outputId": "cd5832bc-ca82-4ecf-fe4a-c802ab14fd12"
      },
      "execution_count": 19,
      "outputs": [
        {
          "output_type": "stream",
          "name": "stdout",
          "text": [
            "Found 5638 images belonging to 2 classes.\n",
            "Found 1408 images belonging to 2 classes.\n"
          ]
        }
      ]
    },
    {
      "cell_type": "code",
      "source": [
        "night_cnn = tf.keras.models.Sequential()\n",
        "night_cnn.add(tf.keras.layers.Conv2D(filters=32, kernel_size=3, activation='relu', input_shape=[64, 64, 3]))\n",
        "night_cnn.add(tf.keras.layers.MaxPool2D(pool_size=2, strides=2))\n",
        "night_cnn.add(tf.keras.layers.Conv2D(filters=32, kernel_size=3, activation='relu'))\n",
        "night_cnn.add(tf.keras.layers.MaxPool2D(pool_size=2, strides=2))\n",
        "night_cnn.add(tf.keras.layers.Flatten())\n",
        "night_cnn.add(tf.keras.layers.Dense(units=128, activation='relu'))\n",
        "night_cnn.add(tf.keras.layers.Dense(units=1, activation='sigmoid'))\n",
        "night_cnn.compile(optimizer='adam', loss='binary_crossentropy', metrics=['accuracy'])\n",
        "\n",
        "\n",
        "night_cnn.fit(x=night_training_set, validation_data=night_test_set, epochs=2)\n",
        "\n"
      ],
      "metadata": {
        "colab": {
          "base_uri": "https://localhost:8080/"
        },
        "id": "4kfQiSnvcM5R",
        "outputId": "12e41010-2e44-4913-99f3-ed8ac0ae358b"
      },
      "execution_count": 20,
      "outputs": [
        {
          "output_type": "stream",
          "name": "stdout",
          "text": [
            "Epoch 1/2\n",
            "177/177 [==============================] - 75s 183ms/step - loss: 0.3175 - accuracy: 0.8620 - val_loss: 3.2297 - val_accuracy: 0.5014\n",
            "Epoch 2/2\n",
            "177/177 [==============================] - 32s 182ms/step - loss: 0.1485 - accuracy: 0.9526 - val_loss: 3.5749 - val_accuracy: 0.4538\n"
          ]
        },
        {
          "output_type": "execute_result",
          "data": {
            "text/plain": [
              "<keras.src.callbacks.History at 0x7f860ae2f9d0>"
            ]
          },
          "metadata": {},
          "execution_count": 20
        }
      ]
    },
    {
      "cell_type": "code",
      "source": [
        "night_test_set.reset()\n",
        "night_predictions = night_cnn.predict(night_test_set)\n",
        "night_predicted_classes = (night_predictions > 0.5).astype(int).reshape(-1)\n",
        "night_true_classes = night_test_set.classes\n",
        "\n"
      ],
      "metadata": {
        "colab": {
          "base_uri": "https://localhost:8080/"
        },
        "id": "2wysw6DgcPdk",
        "outputId": "0bc6a792-e20e-4fa1-fa51-31079878a628"
      },
      "execution_count": 21,
      "outputs": [
        {
          "output_type": "stream",
          "name": "stdout",
          "text": [
            "44/44 [==============================] - 4s 99ms/step\n"
          ]
        }
      ]
    },
    {
      "cell_type": "code",
      "source": [
        "# Compute confusion matrix for new model\n",
        "night_cm = confusion_matrix(night_true_classes, night_predicted_classes)\n",
        "print(\"Confusion Matrix for Night Model\")\n",
        "print(night_cm)\n"
      ],
      "metadata": {
        "colab": {
          "base_uri": "https://localhost:8080/"
        },
        "id": "wYHrQIYBcRhG",
        "outputId": "65782ec6-41c5-49f0-9917-986b4dd857fd"
      },
      "execution_count": 22,
      "outputs": [
        {
          "output_type": "stream",
          "name": "stdout",
          "text": [
            "Confusion Matrix for Night Model\n",
            "[[154 821]\n",
            " [ 58 375]]\n"
          ]
        }
      ]
    },
    {
      "cell_type": "code",
      "source": [
        "# Compute classification report for new model\n",
        "night_report = classification_report(night_true_classes, night_predicted_classes, target_names=['saloon_car', 'motorcycle'])\n",
        "print(\"Classification Report for Night Model\")\n",
        "print(night_report)\n"
      ],
      "metadata": {
        "colab": {
          "base_uri": "https://localhost:8080/"
        },
        "id": "MBKHXoFecS9k",
        "outputId": "33ebe9db-197b-4c0d-94f3-b5524b046373"
      },
      "execution_count": 23,
      "outputs": [
        {
          "output_type": "stream",
          "name": "stdout",
          "text": [
            "Classification Report for Night Model\n",
            "              precision    recall  f1-score   support\n",
            "\n",
            "  saloon_car       0.73      0.16      0.26       975\n",
            "  motorcycle       0.31      0.87      0.46       433\n",
            "\n",
            "    accuracy                           0.38      1408\n",
            "   macro avg       0.52      0.51      0.36      1408\n",
            "weighted avg       0.60      0.38      0.32      1408\n",
            "\n"
          ]
        }
      ]
    },
    {
      "cell_type": "code",
      "source": [
        "# Compute AUC for new model\n",
        "night_fpr, night_tpr, night_thresholds = roc_curve(night_true_classes, night_predictions)\n",
        "night_roc_auc = auc(night_fpr, night_tpr)\n",
        "print(\"AUC for Night Model: \", night_roc_auc)\n"
      ],
      "metadata": {
        "colab": {
          "base_uri": "https://localhost:8080/"
        },
        "id": "9ZZ6lIHecUjB",
        "outputId": "6c0e6ce8-12b1-4965-bd29-5759a2318ba0"
      },
      "execution_count": 24,
      "outputs": [
        {
          "output_type": "stream",
          "name": "stdout",
          "text": [
            "AUC for Night Model:  0.5120672706815894\n"
          ]
        }
      ]
    },
    {
      "cell_type": "code",
      "source": [
        "# Plotting the ROC curve for new model\n",
        "plt.plot(night_fpr, night_tpr, color='green', lw=2, label='Night Model ROC curve (area = %0.2f)' % night_roc_auc)\n",
        "plt.plot([0, 1], [0, 1], color='red', lw=2, linestyle='--')\n",
        "plt.legend(loc=\"lower right\")\n",
        "plt.show()"
      ],
      "metadata": {
        "colab": {
          "base_uri": "https://localhost:8080/",
          "height": 430
        },
        "id": "-ZqNYUFgcWOY",
        "outputId": "5769d10d-65de-413c-e4ec-a786ec37e2d0"
      },
      "execution_count": 25,
      "outputs": [
        {
          "output_type": "display_data",
          "data": {
            "text/plain": [
              "<Figure size 640x480 with 1 Axes>"
            ],
            "image/png": "[encoded data removed]"
          },
          "metadata": {}
        }
      ]
    }
  ]
}