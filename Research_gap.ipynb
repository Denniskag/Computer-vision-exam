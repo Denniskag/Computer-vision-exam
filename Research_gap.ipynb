{
  "nbformat": 4,
  "nbformat_minor": 0,
  "metadata": {
    "colab": {
      "provenance": [],
      "gpuType": "T4",
      "mount_file_id": "1DSogWZsp8W8vPtq1wv5_475QCUF-j9cO",
      "authorship_tag": "ABX9TyPkSqiiEU/dXnQSkAG0dkeW",
      "include_colab_link": true
    },
    "kernelspec": {
      "name": "python3",
      "display_name": "Python 3"
    },
    "language_info": {
      "name": "python"
    },
    "accelerator": "GPU"
  },
  "cells": [
    {
      "cell_type": "markdown",
      "metadata": {
        "id": "view-in-github",
        "colab_type": "text"
      },
      "source": [
        "<a href=\"https://colab.research.google.com/github/Denniskag/Computer-vision-exam/blob/main/Research_gap.ipynb\" target=\"_parent\"><img src=\"https://colab.research.google.com/assets/colab-badge.svg\" alt=\"Open In Colab\"/></a>"
      ]
    },
    {
      "cell_type": "code",
      "execution_count": 1,
      "metadata": {
        "id": "8OnMqUsPbSGh"
      },
      "outputs": [],
      "source": [
        "import tensorflow as tf\n",
        "from keras.preprocessing.image import ImageDataGenerator\n",
        "import numpy as np\n",
        "from sklearn.metrics import confusion_matrix, classification_report, roc_curve, auc\n",
        "import matplotlib.pyplot as plt\n",
        "\n"
      ]
    },
    {
      "cell_type": "code",
      "source": [
        "# Original data augmentation and loading\n",
        "train_datagen = ImageDataGenerator(rescale=1./255,\n",
        "                                   shear_range=0.2,\n",
        "                                   zoom_range=0.2,\n",
        "                                   horizontal_flip=True)\n",
        "training_set = train_datagen.flow_from_directory('/content/drive/MyDrive/Computer vision datasets/data_A/train',\n",
        "                                                 target_size=(64, 64),\n",
        "                                                 batch_size=32,\n",
        "                                                 class_mode='binary')\n",
        "\n",
        "test_datagen = ImageDataGenerator(rescale=1./255)\n",
        "test_set = test_datagen.flow_from_directory('/content/drive/MyDrive/Computer vision datasets/data_A/test',\n",
        "                                            target_size=(64, 64),\n",
        "                                            batch_size=32,\n",
        "                                            class_mode='binary')\n",
        "\n"
      ],
      "metadata": {
        "colab": {
          "base_uri": "https://localhost:8080/"
        },
        "id": "GLY7v3g-bhA5",
        "outputId": "15c7958f-0828-4472-c42c-5d4104cf9eb9"
      },
      "execution_count": 2,
      "outputs": [
        {
          "output_type": "stream",
          "name": "stdout",
          "text": [
            "Found 5638 images belonging to 2 classes.\n",
            "Found 1408 images belonging to 2 classes.\n"
          ]
        }
      ]
    },
    {
      "cell_type": "code",
      "source": [
        "# Define the original CNN model\n",
        "cnn = tf.keras.models.Sequential()\n",
        "cnn.add(tf.keras.layers.Conv2D(filters=32, kernel_size=3, activation='relu', input_shape=[64, 64, 3]))\n",
        "cnn.add(tf.keras.layers.MaxPool2D(pool_size=2, strides=2))\n",
        "cnn.add(tf.keras.layers.Conv2D(filters=32, kernel_size=3, activation='relu'))\n",
        "cnn.add(tf.keras.layers.MaxPool2D(pool_size=2, strides=2))\n",
        "cnn.add(tf.keras.layers.Flatten())\n",
        "cnn.add(tf.keras.layers.Dense(units=128, activation='relu'))\n",
        "cnn.add(tf.keras.layers.Dense(units=1, activation='sigmoid'))\n",
        "cnn.compile(optimizer='adam', loss='binary_crossentropy', metrics=['accuracy'])\n",
        "# Train the original model\n",
        "cnn.fit(x=training_set, validation_data=test_set, epochs=2)"
      ],
      "metadata": {
        "colab": {
          "base_uri": "https://localhost:8080/"
        },
        "id": "94LSmQ6Fbl6g",
        "outputId": "9c7143dc-11d0-4274-ec2c-05112f46e6ac"
      },
      "execution_count": 3,
      "outputs": [
        {
          "output_type": "stream",
          "name": "stdout",
          "text": [
            "Epoch 1/2\n",
            "177/177 [==============================] - 4568s 26s/step - loss: 0.2881 - accuracy: 0.8879 - val_loss: 0.1495 - val_accuracy: 0.9553\n",
            "Epoch 2/2\n",
            "177/177 [==============================] - 30s 169ms/step - loss: 0.1419 - accuracy: 0.9548 - val_loss: 0.1385 - val_accuracy: 0.9581\n"
          ]
        },
        {
          "output_type": "execute_result",
          "data": {
            "text/plain": [
              "<keras.src.callbacks.History at 0x7f86881fefe0>"
            ]
          },
          "metadata": {},
          "execution_count": 3
        }
      ]
    },
    {
      "cell_type": "code",
      "source": [
        "cnn.save('path/to/saved_model.h5')"
      ],
      "metadata": {
        "colab": {
          "base_uri": "https://localhost:8080/"
        },
        "id": "mMWDe0fgv6hI",
        "outputId": "626d0f89-70fd-41a2-c154-162699f46c60"
      },
      "execution_count": 7,
      "outputs": [
        {
          "output_type": "stream",
          "name": "stderr",
          "text": [
            "/usr/local/lib/python3.10/dist-packages/keras/src/engine/training.py:3103: UserWarning: You are saving your model as an HDF5 file via `model.save()`. This file format is considered legacy. We recommend using instead the native Keras format, e.g. `model.save('my_model.keras')`.\n",
            "  saving_api.save_model(\n"
          ]
        }
      ]
    },
    {
      "cell_type": "code",
      "source": [],
      "metadata": {
        "id": "Ckg8sU7CwWRX"
      },
      "execution_count": null,
      "outputs": []
    },
    {
      "cell_type": "code",
      "source": [
        "test_set.reset()\n",
        "predictions = cnn.predict(test_set)\n",
        "predicted_classes = (predictions > 0.5).astype(int).reshape(-1)\n",
        "true_classes = test_set.classes"
      ],
      "metadata": {
        "colab": {
          "base_uri": "https://localhost:8080/"
        },
        "id": "fHpIvS-IbqB9",
        "outputId": "0240807b-5d5d-4a6d-c612-c0c019960a29"
      },
      "execution_count": 4,
      "outputs": [
        {
          "output_type": "stream",
          "name": "stdout",
          "text": [
            "44/44 [==============================] - 5s 106ms/step\n"
          ]
        }
      ]
    },
    {
      "cell_type": "code",
      "source": [
        "cm = confusion_matrix(true_classes, predicted_classes)\n",
        "print(\"Confusion Matrix for Original Model\")\n",
        "print(cm)"
      ],
      "metadata": {
        "colab": {
          "base_uri": "https://localhost:8080/"
        },
        "id": "7ZN1vJuIb1Uz",
        "outputId": "f0dbfe30-39f2-4123-cdad-90c90bcdaa33"
      },
      "execution_count": 5,
      "outputs": [
        {
          "output_type": "stream",
          "name": "stdout",
          "text": [
            "Confusion Matrix for Original Model\n",
            "[[682 293]\n",
            " [278 155]]\n"
          ]
        }
      ]
    },
    {
      "cell_type": "code",
      "source": [
        "report = classification_report(true_classes, predicted_classes, target_names=['saloon_car', 'motorcycle'])\n",
        "print(\"Classification Report for Original Model\")\n",
        "print(report)\n"
      ],
      "metadata": {
        "colab": {
          "base_uri": "https://localhost:8080/"
        },
        "id": "fp1hWHbdb8TZ",
        "outputId": "17511f47-382d-440d-b8d3-3f415bcdbbfa"
      },
      "execution_count": 6,
      "outputs": [
        {
          "output_type": "stream",
          "name": "stdout",
          "text": [
            "Classification Report for Original Model\n",
            "              precision    recall  f1-score   support\n",
            "\n",
            "  saloon_car       0.71      0.70      0.70       975\n",
            "  motorcycle       0.35      0.36      0.35       433\n",
            "\n",
            "    accuracy                           0.59      1408\n",
            "   macro avg       0.53      0.53      0.53      1408\n",
            "weighted avg       0.60      0.59      0.60      1408\n",
            "\n"
          ]
        }
      ]
    },
    {
      "cell_type": "code",
      "source": [
        "fpr, tpr, thresholds = roc_curve(true_classes, predictions)\n",
        "roc_auc = auc(fpr, tpr)\n",
        "print(\"AUC for Original Model: \", roc_auc)\n"
      ],
      "metadata": {
        "colab": {
          "base_uri": "https://localhost:8080/"
        },
        "id": "0W8pPsnMcAso",
        "outputId": "43dd97d4-32db-42a5-e2c8-a7f351dd503f"
      },
      "execution_count": 8,
      "outputs": [
        {
          "output_type": "stream",
          "name": "stdout",
          "text": [
            "AUC for Original Model:  0.5469603837271274\n"
          ]
        }
      ]
    },
    {
      "cell_type": "code",
      "source": [
        "plt.figure()\n",
        "plt.plot(fpr, tpr, color='blue', lw=2, label='Original Model ROC curve (area = %0.2f)' % roc_auc)\n",
        "plt.plot([0, 1], [0, 1], color='red', lw=2, linestyle='--')\n",
        "plt.xlim([0.0, 1.0])\n",
        "plt.ylim([0.0, 1.05])\n",
        "plt.xlabel('False Positive Rate')\n",
        "plt.ylabel('True Positive Rate')\n",
        "plt.title('Receiver Operating Characteristic (ROC) Curve')\n",
        "plt.legend(loc=\"lower right\")\n",
        "\n"
      ],
      "metadata": {
        "colab": {
          "base_uri": "https://localhost:8080/",
          "height": 490
        },
        "id": "x1kWGLFjcEnW",
        "outputId": "bf133b92-a694-4d08-8f2c-a3860797ac26"
      },
      "execution_count": 9,
      "outputs": [
        {
          "output_type": "execute_result",
          "data": {
            "text/plain": [
              "<matplotlib.legend.Legend at 0x7f862b9a30d0>"
            ]
          },
          "metadata": {},
          "execution_count": 9
        },
        {
          "output_type": "display_data",
          "data": {
            "text/plain": [
              "<Figure size 640x480 with 1 Axes>"
            ],
            "image/png": "[encoded data removed]"
          },
          "metadata": {}
        }
      ]
    },
    {
      "cell_type": "code",
      "source": [
        "# New data augmentation for night-time image processing\n",
        "night_train_datagen = ImageDataGenerator(rescale=1./255,\n",
        "                                         shear_range=0.2,\n",
        "                                         zoom_range=0.2,\n",
        "                                         horizontal_flip=True,\n",
        "                                         brightness_range=[0.2, 1.0])\n",
        "\n",
        "night_training_set = night_train_datagen.flow_from_directory('/content/drive/MyDrive/Computer vision datasets/data_A/train',\n",
        "                                                             target_size=(64, 64),\n",
        "                                                             batch_size=32,\n",
        "                                                             class_mode='binary')\n",
        "\n",
        "night_test_datagen = ImageDataGenerator(rescale=1./255)\n",
        "night_test_set = night_test_datagen.flow_from_directory('/content/drive/MyDrive/Computer vision datasets/data_A/test',\n",
        "                                                        target_size=(64, 64),\n",
        "                                                        batch_size=32,\n",
        "                                                        class_mode='binary')"
      ],
      "metadata": {
        "colab": {
          "base_uri": "https://localhost:8080/"
        },
        "id": "2UookayGcI1W",
        "outputId": "58a87891-5ae2-42a6-ae21-eaa439f6d759"
      },
      "execution_count": 10,
      "outputs": [
        {
          "output_type": "stream",
          "name": "stdout",
          "text": [
            "Found 5638 images belonging to 2 classes.\n",
            "Found 1408 images belonging to 2 classes.\n"
          ]
        }
      ]
    },
    {
      "cell_type": "code",
      "source": [
        "night_cnn = tf.keras.models.Sequential()\n",
        "night_cnn.add(tf.keras.layers.Conv2D(filters=32, kernel_size=3, activation='relu', input_shape=[64, 64, 3]))\n",
        "night_cnn.add(tf.keras.layers.MaxPool2D(pool_size=2, strides=2))\n",
        "night_cnn.add(tf.keras.layers.Conv2D(filters=32, kernel_size=3, activation='relu'))\n",
        "night_cnn.add(tf.keras.layers.MaxPool2D(pool_size=2, strides=2))\n",
        "night_cnn.add(tf.keras.layers.Flatten())\n",
        "night_cnn.add(tf.keras.layers.Dense(units=128, activation='relu'))\n",
        "night_cnn.add(tf.keras.layers.Dense(units=1, activation='sigmoid'))\n",
        "night_cnn.compile(optimizer='adam', loss='binary_crossentropy', metrics=['accuracy'])\n",
        "\n",
        "\n",
        "night_cnn.fit(x=night_training_set, validation_data=night_test_set, epochs=2)\n",
        "\n"
      ],
      "metadata": {
        "colab": {
          "base_uri": "https://localhost:8080/"
        },
        "id": "4kfQiSnvcM5R",
        "outputId": "d3e64f71-4537-4147-8cdc-38ed0b175855"
      },
      "execution_count": 11,
      "outputs": [
        {
          "output_type": "stream",
          "name": "stdout",
          "text": [
            "Epoch 1/2\n",
            "177/177 [==============================] - 76s 184ms/step - loss: 0.3775 - accuracy: 0.8471 - val_loss: 0.1589 - val_accuracy: 0.9489\n",
            "Epoch 2/2\n",
            "177/177 [==============================] - 33s 189ms/step - loss: 0.1805 - accuracy: 0.9404 - val_loss: 0.1994 - val_accuracy: 0.9496\n"
          ]
        },
        {
          "output_type": "execute_result",
          "data": {
            "text/plain": [
              "<keras.src.callbacks.History at 0x7f85d00f63e0>"
            ]
          },
          "metadata": {},
          "execution_count": 11
        }
      ]
    },
    {
      "cell_type": "code",
      "source": [
        "night_test_set.reset()\n",
        "night_predictions = night_cnn.predict(night_test_set)\n",
        "night_predicted_classes = (night_predictions > 0.5).astype(int).reshape(-1)\n",
        "night_true_classes = night_test_set.classes\n",
        "\n"
      ],
      "metadata": {
        "colab": {
          "base_uri": "https://localhost:8080/"
        },
        "id": "2wysw6DgcPdk",
        "outputId": "40d3bd38-2776-45bd-a7df-1ce81f171e8b"
      },
      "execution_count": 12,
      "outputs": [
        {
          "output_type": "stream",
          "name": "stdout",
          "text": [
            "44/44 [==============================] - 5s 112ms/step\n"
          ]
        }
      ]
    },
    {
      "cell_type": "code",
      "source": [
        "# Compute confusion matrix for new model\n",
        "night_cm = confusion_matrix(night_true_classes, night_predicted_classes)\n",
        "print(\"Confusion Matrix for Night Model\")\n",
        "print(night_cm)\n"
      ],
      "metadata": {
        "colab": {
          "base_uri": "https://localhost:8080/"
        },
        "id": "wYHrQIYBcRhG",
        "outputId": "92059638-516f-465c-c48b-90c0c94f09a0"
      },
      "execution_count": 13,
      "outputs": [
        {
          "output_type": "stream",
          "name": "stdout",
          "text": [
            "Confusion Matrix for Night Model\n",
            "[[714 261]\n",
            " [318 115]]\n"
          ]
        }
      ]
    },
    {
      "cell_type": "code",
      "source": [
        "# Compute classification report for new model\n",
        "night_report = classification_report(night_true_classes, night_predicted_classes, target_names=['saloon_car', 'motorcycle'])\n",
        "print(\"Classification Report for Night Model\")\n",
        "print(night_report)\n"
      ],
      "metadata": {
        "colab": {
          "base_uri": "https://localhost:8080/"
        },
        "id": "MBKHXoFecS9k",
        "outputId": "3d3062c4-2a71-40db-8f7c-56f9dacfe8f1"
      },
      "execution_count": 14,
      "outputs": [
        {
          "output_type": "stream",
          "name": "stdout",
          "text": [
            "Classification Report for Night Model\n",
            "              precision    recall  f1-score   support\n",
            "\n",
            "  saloon_car       0.69      0.73      0.71       975\n",
            "  motorcycle       0.31      0.27      0.28       433\n",
            "\n",
            "    accuracy                           0.59      1408\n",
            "   macro avg       0.50      0.50      0.50      1408\n",
            "weighted avg       0.57      0.59      0.58      1408\n",
            "\n"
          ]
        }
      ]
    },
    {
      "cell_type": "code",
      "source": [
        "# Compute AUC for new model\n",
        "night_fpr, night_tpr, night_thresholds = roc_curve(night_true_classes, night_predictions)\n",
        "night_roc_auc = auc(night_fpr, night_tpr)\n",
        "print(\"AUC for Night Model: \", night_roc_auc)\n"
      ],
      "metadata": {
        "colab": {
          "base_uri": "https://localhost:8080/"
        },
        "id": "9ZZ6lIHecUjB",
        "outputId": "907088cc-8c8d-4e3e-aa1e-e6a4b22e0212"
      },
      "execution_count": 15,
      "outputs": [
        {
          "output_type": "stream",
          "name": "stdout",
          "text": [
            "AUC for Night Model:  0.5089192870255226\n"
          ]
        }
      ]
    },
    {
      "cell_type": "code",
      "source": [
        "# Plotting the ROC curve for new model\n",
        "plt.plot(night_fpr, night_tpr, color='green', lw=2, label='Night Model ROC curve (area = %0.2f)' % night_roc_auc)\n",
        "plt.legend(loc=\"lower right\")\n",
        "plt.show()"
      ],
      "metadata": {
        "colab": {
          "base_uri": "https://localhost:8080/",
          "height": 430
        },
        "id": "-ZqNYUFgcWOY",
        "outputId": "9580644c-ce5d-4864-e89e-199bfab0e9a4"
      },
      "execution_count": 16,
      "outputs": [
        {
          "output_type": "display_data",
          "data": {
            "text/plain": [
              "<Figure size 640x480 with 1 Axes>"
            ],
            "image/png": "[encoded data removed]"
          },
          "metadata": {}
        }
      ]
    }
  ]
}